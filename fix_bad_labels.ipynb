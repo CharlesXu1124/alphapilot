{
 "cells": [
  {
   "cell_type": "markdown",
   "metadata": {},
   "source": [
    "For regression to work properly all the labels must be in a consistent order.  Starting from the top left, the coordinates should proceed clockwise.  This will automatically identify and fix all coordinates that are out of order.  These bad labels are likely to be particularly insidious for training as they dramatically throw off all eight predictions in the image."
   ]
  },
  {
   "cell_type": "markdown",
   "metadata": {},
   "source": [
    "## SETUP"
   ]
  },
  {
   "cell_type": "code",
   "execution_count": 24,
   "metadata": {},
   "outputs": [],
   "source": [
    "%reload_ext autoreload\n",
    "%autoreload 2\n",
    "%matplotlib inline"
   ]
  },
  {
   "cell_type": "code",
   "execution_count": 25,
   "metadata": {},
   "outputs": [],
   "source": [
    "import pandas as pd\n",
    "import numpy as np\n",
    "import os\n",
    "import pathlib"
   ]
  },
  {
   "cell_type": "code",
   "execution_count": 26,
   "metadata": {},
   "outputs": [],
   "source": [
    "# helper functions to reorder points\n",
    "\n",
    "# point 1: of two smallest x, the one with smallest y\n",
    "def p1(nums):\n",
    "    coords = []\n",
    "    # turn list of 8 numbers into list of 4 [x, y] pairs\n",
    "    for i in range(0,8,2):\n",
    "        coords.append([nums[i], nums[i+1]])\n",
    "    # sort by x, take 2 pairs\n",
    "    xs = sorted(coords)[:2]\n",
    "    # sort by y, take 1 pair\n",
    "    return sorted(xs, key=lambda x: x[1])[0]\n",
    "\n",
    "# point 2: of two largest x, the one with smallest y\n",
    "def p2(nums):\n",
    "    coords = []\n",
    "    for i in range(0,8,2):\n",
    "        coords.append([nums[i], nums[i+1]])\n",
    "    xs = sorted(coords, reverse=True)[:2]\n",
    "    return sorted(xs, key=lambda x: x[1])[0]\n",
    "\n",
    "# point 3: of two largest x, the one with largest y\n",
    "def p3(nums):\n",
    "    coords = []\n",
    "    for i in range(0,8,2):\n",
    "        coords.append([nums[i], nums[i+1]])\n",
    "    xs = sorted(coords, reverse=True)[:2]\n",
    "    return sorted(xs, key=lambda x: x[1], reverse=True)[0]\n",
    "\n",
    "# point 4: of two smallest x, the one with largest y\n",
    "def p4(nums):\n",
    "    coords = []\n",
    "    for i in range(0,8,2):\n",
    "        coords.append([nums[i], nums[i+1]])\n",
    "    xs = sorted(coords)[:2]\n",
    "    return sorted(xs, key=lambda x: x[1], reverse=True)[0]"
   ]
  },
  {
   "cell_type": "code",
   "execution_count": 27,
   "metadata": {},
   "outputs": [],
   "source": [
    "path = pathlib.Path.home()/'.fastai/data'"
   ]
  },
  {
   "cell_type": "code",
   "execution_count": 28,
   "metadata": {},
   "outputs": [],
   "source": [
    "# copy label files from git\n",
    "! mkdir -p $path/labels\n",
    "! cp -r labels $path/"
   ]
  },
  {
   "cell_type": "code",
   "execution_count": 29,
   "metadata": {},
   "outputs": [],
   "source": [
    "labels_dir = path/'labels'\n",
    "gc_labels_path = labels_dir/'good_community_labels'"
   ]
  },
  {
   "cell_type": "code",
   "execution_count": 18,
   "metadata": {},
   "outputs": [
    {
     "data": {
      "text/plain": [
       "['trainingdata_5000_to_5499_good.json',\n",
       " 'trainingdata_500_to_999_good.json',\n",
       " 'trainingdata_2500_to_2999_good.json',\n",
       " 'trainingdata_1500_to_1999_good.json',\n",
       " 'trainingdata_0_to_499_good.json',\n",
       " 'trainingdata_7000_to_7499_good.json',\n",
       " 'trainingdata_3500_to_3999_good.json',\n",
       " 'trainingdata_9000_to_9499_good_2.json',\n",
       " 'trainingdata_8500_to_8999_good.json',\n",
       " 'trainingdata_4000_to_4499_good.json',\n",
       " 'trainingdata_6500_to_6999_good.json',\n",
       " 'trainingdata_1000_to_1499_good.json',\n",
       " 'trainingdata_2000_to_2499_good.json',\n",
       " 'trainingdata_5500_to_5999_good.json',\n",
       " 'trainingdata_4500_to_4999_good.json',\n",
       " 'trainingdata_8000_to_8499_good.json',\n",
       " 'trainingdata_3000_to_3499_good.json',\n",
       " 'trainingdata_7500_to_7999_good.json']"
      ]
     },
     "execution_count": 18,
     "metadata": {},
     "output_type": "execute_result"
    }
   ],
   "source": [
    "os.listdir(gc_labels_path)"
   ]
  },
  {
   "cell_type": "code",
   "execution_count": null,
   "metadata": {},
   "outputs": [],
   "source": [
    "# load all community labels\n",
    "df_files = []\n",
    "for file in os.listdir(gc_labels_path):\n",
    "    df_files.append(pd.read_json(gc_labels_path/file))\n",
    "    df = pd.concat(df_files, axis=1) "
   ]
  },
  {
   "cell_type": "code",
   "execution_count": 30,
   "metadata": {},
   "outputs": [],
   "source": [
    "# uncomment to process a different label file\n",
    "df = pd.read_json(labels_dir/'training_superclean_labels.json')"
   ]
  },
  {
   "cell_type": "markdown",
   "metadata": {},
   "source": [
    "## FIND"
   ]
  },
  {
   "cell_type": "code",
   "execution_count": 31,
   "metadata": {},
   "outputs": [
    {
     "data": {
      "text/plain": [
       "9253"
      ]
     },
     "execution_count": 31,
     "metadata": {},
     "output_type": "execute_result"
    }
   ],
   "source": [
    "len(df.keys())"
   ]
  },
  {
   "cell_type": "code",
   "execution_count": 32,
   "metadata": {},
   "outputs": [],
   "source": [
    "# find ones out of order\n",
    "results = []\n",
    "for key, value in df.items():\n",
    "    nums = value[0]\n",
    "    if len(nums) == 8:\n",
    "        # test all four points, if any one is out of order add it to the list \n",
    "        if not (nums[0:2] == p1(nums) and \n",
    "                nums[2:4] == p2(nums) and \n",
    "                nums[4:6] == p3(nums) and \n",
    "                nums[6:8] == p4(nums)):\n",
    "            results.append(key)     "
   ]
  },
  {
   "cell_type": "code",
   "execution_count": 33,
   "metadata": {},
   "outputs": [
    {
     "data": {
      "text/plain": [
       "[]"
      ]
     },
     "execution_count": 33,
     "metadata": {},
     "output_type": "execute_result"
    }
   ],
   "source": [
    "results[:5]"
   ]
  },
  {
   "cell_type": "code",
   "execution_count": 34,
   "metadata": {},
   "outputs": [
    {
     "data": {
      "text/plain": [
       "0"
      ]
     },
     "execution_count": 34,
     "metadata": {},
     "output_type": "execute_result"
    }
   ],
   "source": [
    "len(results)"
   ]
  },
  {
   "cell_type": "markdown",
   "metadata": {},
   "source": [
    "## FIX"
   ]
  },
  {
   "cell_type": "code",
   "execution_count": null,
   "metadata": {},
   "outputs": [],
   "source": [
    "# takes a filename and returns correctly ordered coordinates\n",
    "def fix(fname):\n",
    "    coords = df[fname][0]\n",
    "\n",
    "    return (p1(coords) + p2(coords) + p3(coords) + p4(coords))"
   ]
  },
  {
   "cell_type": "code",
   "execution_count": null,
   "metadata": {},
   "outputs": [],
   "source": [
    "# reorder the coordinates so they are clockwise starting from top-left\n",
    "count = 0\n",
    "for fname in results:\n",
    "    df[fname] = [fix(fname)]\n",
    "    count += 1\n",
    "print(f'Updated {count} items.')"
   ]
  },
  {
   "cell_type": "code",
   "execution_count": null,
   "metadata": {},
   "outputs": [],
   "source": [
    "# change values to double nested array per AlphaPilot spec\n",
    "for key in df.keys():\n",
    "    df[key] = [[df[key][0]]]"
   ]
  },
  {
   "cell_type": "code",
   "execution_count": null,
   "metadata": {},
   "outputs": [],
   "source": [
    "# write out clean json file with all the community labels\n",
    "\n",
    "# convert dataframe to JSON string and strip out outer '[]'\n",
    "json_str = df.to_json(orient='records')[1:-1]\n",
    "\n",
    "# write to file\n",
    "f = open(labels_dir/'training_community_labels.json', 'w')\n",
    "f.write(json_str)\n",
    "f.close()"
   ]
  },
  {
   "cell_type": "code",
   "execution_count": null,
   "metadata": {},
   "outputs": [],
   "source": []
  },
  {
   "cell_type": "code",
   "execution_count": null,
   "metadata": {},
   "outputs": [],
   "source": []
  },
  {
   "cell_type": "code",
   "execution_count": null,
   "metadata": {},
   "outputs": [],
   "source": []
  },
  {
   "cell_type": "code",
   "execution_count": null,
   "metadata": {},
   "outputs": [],
   "source": []
  },
  {
   "cell_type": "code",
   "execution_count": null,
   "metadata": {},
   "outputs": [],
   "source": []
  },
  {
   "cell_type": "code",
   "execution_count": null,
   "metadata": {},
   "outputs": [],
   "source": []
  },
  {
   "cell_type": "markdown",
   "metadata": {},
   "source": [
    "## DEBUGING"
   ]
  },
  {
   "cell_type": "code",
   "execution_count": null,
   "metadata": {},
   "outputs": [],
   "source": [
    "df['IMG_1571.JPG']"
   ]
  },
  {
   "cell_type": "code",
   "execution_count": null,
   "metadata": {},
   "outputs": [],
   "source": []
  },
  {
   "cell_type": "code",
   "execution_count": null,
   "metadata": {},
   "outputs": [],
   "source": []
  },
  {
   "cell_type": "code",
   "execution_count": null,
   "metadata": {},
   "outputs": [],
   "source": []
  },
  {
   "cell_type": "code",
   "execution_count": null,
   "metadata": {},
   "outputs": [],
   "source": [
    "# find ones out of order\n",
    "results = []\n",
    "for key, value in df.items():\n",
    "    coords = value[0]\n",
    "    if len(coords) == 8:\n",
    "        x1, y1, x2, y2, x3, y3, x4, y4 = tuple(coords)\n",
    "    if x1 > x2 or y2> y3 or x3 < x4 or y4 < y1:\n",
    "        results.append(key)"
   ]
  },
  {
   "cell_type": "code",
   "execution_count": null,
   "metadata": {},
   "outputs": [],
   "source": [
    "# takes a filename and returns correctly ordered coordinates\n",
    "def fix_old(fname):\n",
    "    arr = np.array(df[fname][0]).reshape(4,2)\n",
    "    arr_sum = arr.sum(axis=1)        # x + y\n",
    "    arr_diff = arr[:,0] - arr[:,1]   # x - y\n",
    "    \n",
    "    pt1 = arr[arr_sum.argmin()]\n",
    "    pt2 = arr[arr_diff.argmax()]\n",
    "    pt3 = arr[arr_sum.argmax()]\n",
    "    pt4 = arr[arr_diff.argmin()]\n",
    "    \n",
    "    return list(np.hstack((pt1, pt2, pt3, pt4)))"
   ]
  }
 ],
 "metadata": {
  "kernelspec": {
   "display_name": "Python 3",
   "language": "python",
   "name": "python3"
  },
  "language_info": {
   "codemirror_mode": {
    "name": "ipython",
    "version": 3
   },
   "file_extension": ".py",
   "mimetype": "text/x-python",
   "name": "python",
   "nbconvert_exporter": "python",
   "pygments_lexer": "ipython3",
   "version": "3.6.7"
  },
  "toc": {
   "nav_menu": {},
   "number_sections": true,
   "sideBar": true,
   "skip_h1_title": false,
   "title_cell": "Table of Contents",
   "title_sidebar": "Contents",
   "toc_cell": false,
   "toc_position": {},
   "toc_section_display": true,
   "toc_window_display": false
  }
 },
 "nbformat": 4,
 "nbformat_minor": 2
}
