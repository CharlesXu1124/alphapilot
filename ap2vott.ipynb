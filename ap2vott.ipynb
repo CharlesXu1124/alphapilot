{
 "cells": [
  {
   "cell_type": "markdown",
   "metadata": {},
   "source": [
    "Convert Alphapilot JSON format to [VoTT](https://github.com/Microsoft/VoTT) custom vision service JSON format.  This allows images and labels to be visualized in VoTT, which is a nice way to see them.  Good for measuring accuracy of ground truths and predictions."
   ]
  },
  {
   "cell_type": "code",
   "execution_count": 1,
   "metadata": {},
   "outputs": [],
   "source": [
    "%reload_ext autoreload\n",
    "%autoreload 2\n",
    "%matplotlib inline"
   ]
  },
  {
   "cell_type": "code",
   "execution_count": 2,
   "metadata": {},
   "outputs": [],
   "source": [
    "import pandas as pd\n",
    "import numpy as np\n",
    "import os\n",
    "import shutil\n",
    "import pathlib\n",
    "import random"
   ]
  },
  {
   "cell_type": "code",
   "execution_count": 3,
   "metadata": {},
   "outputs": [],
   "source": [
    "path = pathlib.Path.home()/'.fastai/data'"
   ]
  },
  {
   "cell_type": "code",
   "execution_count": 4,
   "metadata": {},
   "outputs": [],
   "source": [
    "# copy labels from git\n",
    "! mkdir -p $path/labels\n",
    "! cp -r labels $path/\n",
    "# copy results from git\n",
    "! cp -r results $path/"
   ]
  },
  {
   "cell_type": "code",
   "execution_count": 49,
   "metadata": {},
   "outputs": [],
   "source": [
    "labels_dir = path/'labels'"
   ]
  },
  {
   "cell_type": "code",
   "execution_count": 5,
   "metadata": {},
   "outputs": [],
   "source": [
    "#df = pd.read_json(labels_dir/'training_GT_labels_v2.json')\n",
    "#df = pd.read_json(labels_dir/'training_combined_labels.json') \n",
    "#df = pd.read_json(labels_dir/'fixed_9299.json')\n",
    "#df = pd.read_json(labels_dir/'good_community_labels/trainingdata_9000_to_9499_good_2.json')\n",
    "df = pd.read_json(path/'results/results_v20run1_stage26_test.json')"
   ]
  },
  {
   "cell_type": "code",
   "execution_count": 6,
   "metadata": {},
   "outputs": [],
   "source": [
    "#fnames = [\"IMG_0005.JPG\",\"IMG_0006.JPG\",\"IMG_0007.JPG\"]\n",
    "fnames = df.keys()"
   ]
  },
  {
   "cell_type": "code",
   "execution_count": 7,
   "metadata": {},
   "outputs": [
    {
     "data": {
      "text/plain": [
       "1161"
      ]
     },
     "execution_count": 7,
     "metadata": {},
     "output_type": "execute_result"
    }
   ],
   "source": [
    "len(fnames)"
   ]
  },
  {
   "cell_type": "code",
   "execution_count": 8,
   "metadata": {},
   "outputs": [],
   "source": [
    "def body(fname, df):\n",
    "    coords = df[fname][0]\n",
    "    uid1 = hex(random.randint(0, 4294967295))[2:]\n",
    "    uid2 = hex(random.randint(0, 4294967295))[2:]\n",
    "    if len(coords) == 8:  # just coords\n",
    "        x1, y1, x2, y2, x3, y3, x4, y4 = tuple(coords)\n",
    "        return f'\"{fname}\":[{{\"x1\":0,\"y1\":0,\"x2\":0,\"y2\":0,\"width\":1296,\"height\":864,\"box\":{{\"x1\":0,\"y1\":0,\"x2\":0,\"y2\":0}},\"points\":[],\"UID\":\"{uid1}\",\"id\":0,\"type\":\"polyline\",\"tags\":[\"gate\"],\"name\":1}},{{\"x1\":{x1},\"y1\":{y1},\"x2\":{x3},\"y2\":{y3},\"width\":1296,\"height\":864,\"box\":{{\"x1\":{x1},\"y1\":{y1},\"x2\":{x3},\"y2\":{y3}}},\"points\":[{{\"x\":{x1},\"y\":{y1}}},{{\"x\":{x2},\"y\":{y2}}},{{\"x\":{x3},\"y\":{y3}}},{{\"x\":{x4},\"y\":{y4}}}],\"UID\":\"{uid2}\",\"id\":1,\"type\":\"polygon\",\"tags\":[\"gate\"],\"name\":2}}],'\n",
    "    elif len(coords) == 9:  # coords + confidence (for predictions)\n",
    "        x1, y1, x2, y2, x3, y3, x4, y4, conf = tuple(coords)\n",
    "        return f'\"{fname}\":[{{\"x1\":0,\"y1\":0,\"x2\":0,\"y2\":0,\"width\":1296,\"height\":864,\"box\":{{\"x1\":0,\"y1\":0,\"x2\":0,\"y2\":0}},\"points\":[],\"UID\":\"{uid1}\",\"id\":0,\"type\":\"polyline\",\"tags\":[\"gate\"],\"name\":1}},{{\"x1\":{x1},\"y1\":{y1},\"x2\":{x3},\"y2\":{y3},\"width\":1296,\"height\":864,\"box\":{{\"x1\":{x1},\"y1\":{y1},\"x2\":{x3},\"y2\":{y3}}},\"points\":[{{\"x\":{x1},\"y\":{y1}}},{{\"x\":{x2},\"y\":{y2}}},{{\"x\":{x3},\"y\":{y3}}},{{\"x\":{x4},\"y\":{y4}}}],\"UID\":\"{uid2}\",\"id\":1,\"type\":\"polygon\",\"tags\":[\"gate\"],\"name\":2}}],'\n",
    "    else:\n",
    "        return f'\"{fname}\":[],'"
   ]
  },
  {
   "cell_type": "code",
   "execution_count": 9,
   "metadata": {},
   "outputs": [],
   "source": [
    "# fixed file header\n",
    "output = '{\"frames\":{'\n",
    "# body based on template\n",
    "for key in fnames:\n",
    "    output += body(key, df)\n",
    "# remove final semi colon\n",
    "output = output[:-1]\n",
    "    \n",
    "# fixed footer begining\n",
    "output += '},\"framerate\":\"1\",\"inputTags\":\"gate\",\"suggestiontype\":\"track\",\"scd\":false,\"visitedFrames\":['\n",
    "# every image name\n",
    "for fname in fnames:\n",
    "    output += f'\"{fname}\",'\n",
    "# remove final semi colon\n",
    "output = output[:-1]\n",
    "# fixed footer ending\n",
    "output += '],\"tag_colors\":[\"#990bb0\"]}'"
   ]
  },
  {
   "cell_type": "code",
   "execution_count": 10,
   "metadata": {},
   "outputs": [
    {
     "data": {
      "text/plain": [
       "'{\"frames\":{\"IMG_0008.JPG\":[{\"x1\":0,\"y1\":0,\"x2\":0,\"y2\":0,\"width\":1296,\"height\":864,\"box\":{\"x1\":0,\"y1\":0,\"x2\":0,\"y2\":0},\"points\":[],\"UID\":\"eec730c9\",\"id\":0,\"type\":\"polyline\",\"tags\":[\"gate\"],\"name\":1},{\"x1\":153.7985839844,\"y1\":87.9038772583,\"x2\":523.7808227539,\"y2\":533.2077026367,\"width\":1296,\"height\":864,\"box\":{\"x1\":153.7985839844,\"y1\":87.9038772583,\"x2\":523.7808227539,\"y2\":533.2077026367},\"points\":[{\"x\":153.7985839844,\"y\":87.9038772583},{\"x\":526.2696533203,\"y\":159.6353149414},{\"x\":523.7808227539,\"y\":533.2077026367},{\"x\":109.8680953979,\"y\":556.0162963867}],\"UID\":\"a4e216a6\",\"id\":1,\"type\":\"polygon\",\"tags\":[\"gate\"],\"name\":2}],\"IMG_0023.JPG\":[{\"x1\":0,\"y1\":0,\"x2\":0,\"y2\":0,\"width\":1296,\"height\":864,\"box\":{\"x1\":0,\"y1\":0,\"x2\":0,\"y2\":0},\"points\":[],\"UID\":\"dcec1558\",\"id\":0,\"type\":\"polyline\",\"tags\":[\"gate\"],\"name\":1},{\"x1\":412.3900756836,\"y1\":287.9408569336,\"x2\":698.8715209961,\"y2\":576.2043457031,\"width\":1296,\"height\":864,\"box\":{\"x1\":412.3900756836,\"y1\":287.9408569336,\"x2\":698.8715209961,\"y2\":576.2'"
      ]
     },
     "execution_count": 10,
     "metadata": {},
     "output_type": "execute_result"
    }
   ],
   "source": [
    "output[:1000]"
   ]
  },
  {
   "cell_type": "code",
   "execution_count": 11,
   "metadata": {},
   "outputs": [],
   "source": [
    "with open(path/'vott.json', 'w') as f:\n",
    "    f.write(output)"
   ]
  },
  {
   "cell_type": "markdown",
   "metadata": {},
   "source": [
    "```\n",
    "\"framerate\":\"1\",\"inputTags\":\"gate\",\"suggestiontype\":\"track\",\"scd\":false,\"visitedFrames\":[\"IMG_0005.JPG\",\"IMG_0006.JPG\",\"IMG_0007.JPG\"],\"tag_colors\":[\"#990bb0\"]}\n",
    "```"
   ]
  },
  {
   "cell_type": "code",
   "execution_count": 12,
   "metadata": {},
   "outputs": [],
   "source": [
    "# create new image dir only of images with labels in scope\n",
    "#orig_img_path = path/'Data_Training'\n",
    "orig_img_path = path/'Data_LeaderboardTesting/'\n",
    "img_path = path/'vott'\n",
    "\n",
    "# remove existing good image dir\n",
    "if os.path.isdir(img_path):\n",
    "    shutil.rmtree(img_path)\n",
    "# copy files\n",
    "os.mkdir(img_path)\n",
    "for fname in df.keys():\n",
    "    shutil.copyfile(orig_img_path/fname, img_path/fname)"
   ]
  },
  {
   "cell_type": "code",
   "execution_count": null,
   "metadata": {},
   "outputs": [],
   "source": []
  },
  {
   "cell_type": "code",
   "execution_count": null,
   "metadata": {},
   "outputs": [],
   "source": []
  },
  {
   "cell_type": "code",
   "execution_count": null,
   "metadata": {},
   "outputs": [],
   "source": []
  },
  {
   "cell_type": "code",
   "execution_count": null,
   "metadata": {},
   "outputs": [],
   "source": []
  },
  {
   "cell_type": "markdown",
   "metadata": {},
   "source": [
    "## DEBUG"
   ]
  },
  {
   "cell_type": "code",
   "execution_count": null,
   "metadata": {},
   "outputs": [],
   "source": [
    "# ONLY RUN TO VISUALIZE BAD LABELS\n",
    "\n",
    "\n",
    "# load bad labels from file\n",
    "bad_labels_path = labels_dir/'poor_community_labels.txt'\n",
    "with open(bad_labels_path,'r') as f:\n",
    "    bad_labels = f.readlines()\n",
    "\n",
    "bad_labels = [item.strip('\\n') for item in bad_labels if item.startswith('IMG')]\n",
    "\n",
    "# load only the bad labels into the dataframe\n",
    "for id in df.keys():\n",
    "    if id not in bad_labels:\n",
    "        df = df.drop(id, 1)\n",
    "        \n",
    "len(bad_labels)\n"
   ]
  },
  {
   "cell_type": "code",
   "execution_count": null,
   "metadata": {},
   "outputs": [],
   "source": [
    "df = pd.read_json(path/'cleaned_community_labels.json')"
   ]
  },
  {
   "cell_type": "code",
   "execution_count": null,
   "metadata": {},
   "outputs": [],
   "source": [
    "df"
   ]
  },
  {
   "cell_type": "code",
   "execution_count": null,
   "metadata": {},
   "outputs": [],
   "source": [
    "# round values from vott\n",
    "for key in df.keys():\n",
    "    df[key][0] = [[round(i) for i in df[key][0]]]"
   ]
  },
  {
   "cell_type": "code",
   "execution_count": null,
   "metadata": {},
   "outputs": [],
   "source": [
    "df"
   ]
  },
  {
   "cell_type": "code",
   "execution_count": null,
   "metadata": {},
   "outputs": [],
   "source": [
    "# write out clean json file with all the community labels\n",
    "\n",
    "# convert dataframe to JSON string and strip out outer '[]'\n",
    "json_str = df.to_json(orient='records')[1:-1]\n",
    "\n",
    "# write to file\n",
    "f = open(path/'cleaned_community_labels2.json', 'w')\n",
    "f.write(json_str)\n",
    "f.close()"
   ]
  },
  {
   "cell_type": "code",
   "execution_count": null,
   "metadata": {},
   "outputs": [],
   "source": []
  }
 ],
 "metadata": {
  "kernelspec": {
   "display_name": "Python 3",
   "language": "python",
   "name": "python3"
  },
  "language_info": {
   "codemirror_mode": {
    "name": "ipython",
    "version": 3
   },
   "file_extension": ".py",
   "mimetype": "text/x-python",
   "name": "python",
   "nbconvert_exporter": "python",
   "pygments_lexer": "ipython3",
   "version": "3.6.7"
  },
  "toc": {
   "nav_menu": {},
   "number_sections": true,
   "sideBar": true,
   "skip_h1_title": false,
   "title_cell": "Table of Contents",
   "title_sidebar": "Contents",
   "toc_cell": false,
   "toc_position": {},
   "toc_section_display": true,
   "toc_window_display": false
  }
 },
 "nbformat": 4,
 "nbformat_minor": 2
}
